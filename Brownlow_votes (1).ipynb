{
 "cells": [
  {
   "cell_type": "code",
   "execution_count": 1,
   "metadata": {},
   "outputs": [],
   "source": [
    "import pandas as pd\n",
    "import matplotlib.pyplot as plt"
   ]
  },
  {
   "cell_type": "code",
   "execution_count": 43,
   "metadata": {},
   "outputs": [],
   "source": [
    "#remove finals\n",
    "#make rounds R1 into 1 etc.\n",
    "stats = pd.read_csv(\"stats_with_ratings.csv\")\n",
    "finals = [\"GF\", \"PF\", \"QF\", \"EF\", \"SF\"]\n",
    "stats = stats[~stats.Round.isin(finals)]\n",
    "stats[\"Round\"] = stats[\"Round\"].apply(lambda x: int(x[1:]))\n",
    "stats = stats.sort_values([\"Team\", \"Season\", \"Round\"])"
   ]
  },
  {
   "cell_type": "code",
   "execution_count": 44,
   "metadata": {},
   "outputs": [],
   "source": [
    "r12012 = stats[stats.Season == 2012]\n",
    "r12012 = r12012[r12012.Round == 1]"
   ]
  },
  {
   "cell_type": "code",
   "execution_count": 45,
   "metadata": {},
   "outputs": [],
   "source": [
    "teams = {i for i in r12012[\"Team\"]}\n",
    "seperated = [r12012[r12012.Team == i].drop(\"Unnamed: 0\", axis = 1).reset_index(drop = True) for i in teams]"
   ]
  },
  {
   "cell_type": "code",
   "execution_count": 112,
   "metadata": {},
   "outputs": [],
   "source": [
    "#Seperate into a list of lists, with each list being the dataframes for the teams in a certain match\n",
    "pairings = []\n",
    "done = []\n",
    "\n",
    "for i in seperated:\n",
    "    team = i.loc[0, \"Team\"]\n",
    "    if team not in done:\n",
    "        pairings.append(i)\n",
    "        done.append(i.Team[0])\n",
    "        done.append(i.Opposition[0])\n",
    "        opp = i.Opposition[0]\n",
    "        for j in seperated:\n",
    "            if j.Team[0] == opp:\n",
    "                pairings.append(j)\n",
    "                \n",
    "pairings = [pairings[i:i + 2] for i in range(0, len(pairings), 2)]\n",
    "pairings = [pd.concat(i).sort_values(\"Ratings\", ascending = False).reset_index(drop = True) for i in pairings]"
   ]
  },
  {
   "cell_type": "code",
   "execution_count": 116,
   "metadata": {},
   "outputs": [],
   "source": [
    "#Tallying votes for r1 2012\n",
    "from collections import defaultdict\n",
    "votes = defaultdict(int)\n",
    "for i in pairings:\n",
    "    best = i.loc[0, \"Player\"]\n",
    "    second_best = i.loc[1, \"Player\"]\n",
    "    third_best = i.loc[2, \"Player\"]\n",
    "    votes[best] += 3\n",
    "    votes[second_best] += 2\n",
    "    votes[third_best] += 1\n",
    "    "
   ]
  },
  {
   "cell_type": "code",
   "execution_count": 117,
   "metadata": {},
   "outputs": [
    {
     "data": {
      "text/plain": [
       "defaultdict(int,\n",
       "            {'Adcock, Jed': 3,\n",
       "             'Black, Simon': 2,\n",
       "             'Rockliff, Tom': 1,\n",
       "             'Selwood, Joel': 3,\n",
       "             'Fyfe, Nat': 2,\n",
       "             'Kelly, James': 1,\n",
       "             'Swan, Dane': 3,\n",
       "             'Pendlebury, Scott': 2,\n",
       "             'Mitchell, Sam': 1,\n",
       "             'Murphy, Marc': 3,\n",
       "             'Simpson, Kade': 2,\n",
       "             'Carrazzo, Andrew': 1,\n",
       "             'Stanton, Brent': 3,\n",
       "             'Watson, Jobe': 2,\n",
       "             'Wells, Daniel': 1,\n",
       "             'Ablett, Gary': 3,\n",
       "             'Thompson, Scott': 2,\n",
       "             'Sloane, Rory': 1,\n",
       "             'Jack, Kieren': 3,\n",
       "             'Bird, Craig': 2,\n",
       "             'Kennedy, Adam': 1,\n",
       "             'Boyd, Matthew': 3,\n",
       "             'Rosa, Matt': 2,\n",
       "             'Selwood, Scott': 1,\n",
       "             'Dal Santo, Nick': 3,\n",
       "             'Goddard, Brendon': 2,\n",
       "             'Hartlett, Hamish': 1})"
      ]
     },
     "execution_count": 117,
     "metadata": {},
     "output_type": "execute_result"
    }
   ],
   "source": [
    "votes"
   ]
  },
  {
   "cell_type": "code",
   "execution_count": null,
   "metadata": {},
   "outputs": [],
   "source": []
  },
  {
   "cell_type": "code",
   "execution_count": null,
   "metadata": {},
   "outputs": [],
   "source": []
  }
 ],
 "metadata": {
  "kernelspec": {
   "display_name": "Python 3",
   "language": "python",
   "name": "python3"
  },
  "language_info": {
   "codemirror_mode": {
    "name": "ipython",
    "version": 3
   },
   "file_extension": ".py",
   "mimetype": "text/x-python",
   "name": "python",
   "nbconvert_exporter": "python",
   "pygments_lexer": "ipython3",
   "version": "3.7.4"
  }
 },
 "nbformat": 4,
 "nbformat_minor": 4
}
