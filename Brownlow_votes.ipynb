{
 "cells": [
  {
   "cell_type": "code",
   "execution_count": 6,
   "metadata": {},
   "outputs": [],
   "source": [
    "import pandas as pd\n",
    "import matplotlib.pyplot as plt"
   ]
  },
  {
   "cell_type": "code",
   "execution_count": 68,
   "metadata": {},
   "outputs": [],
   "source": [
    "#remove finals\n",
    "#make rounds R1 into 1 etc.\n",
    "stats = pd.read_csv(\"stats_with_ratings.csv\")\n",
    "finals = [\"GF\", \"PF\", \"QF\", \"EF\", \"SF\"]\n",
    "stats = stats[~stats.Round.isin(finals)]\n",
    "stats[\"Round\"] = stats[\"Round\"].apply(lambda x: int(x[1:]))\n",
    "stats = stats.sort_values([\"Team\", \"Season\", \"Round\"])"
   ]
  },
  {
   "cell_type": "code",
   "execution_count": 78,
   "metadata": {},
   "outputs": [],
   "source": [
    "r12012 = stats[stats.Season == 2012]\n",
    "r12012 = r12012[r12012.Round == 1]"
   ]
  },
  {
   "cell_type": "code",
   "execution_count": 82,
   "metadata": {},
   "outputs": [],
   "source": [
    "teams = {i for i in r12012[\"Team\"]}\n",
    "seperated = [r12012[r12012.Team == i] for i in teams]"
   ]
  },
  {
   "cell_type": "code",
   "execution_count": null,
   "metadata": {},
   "outputs": [],
   "source": []
  },
  {
   "cell_type": "code",
   "execution_count": null,
   "metadata": {},
   "outputs": [],
   "source": []
  }
 ],
 "metadata": {
  "kernelspec": {
   "display_name": "Python 3",
   "language": "python",
   "name": "python3"
  },
  "language_info": {
   "codemirror_mode": {
    "name": "ipython",
    "version": 3
   },
   "file_extension": ".py",
   "mimetype": "text/x-python",
   "name": "python",
   "nbconvert_exporter": "python",
   "pygments_lexer": "ipython3",
   "version": "3.7.4"
  }
 },
 "nbformat": 4,
 "nbformat_minor": 4
}
